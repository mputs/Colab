{
  "nbformat": 4,
  "nbformat_minor": 0,
  "metadata": {
    "colab": {
      "name": "Install_libgpuarray.ipynb",
      "provenance": [],
      "authorship_tag": "ABX9TyOuzQIlN7t8AGIejFOy7AMY",
      "include_colab_link": true
    },
    "kernelspec": {
      "name": "python3",
      "display_name": "Python 3"
    }
  },
  "cells": [
    {
      "cell_type": "markdown",
      "metadata": {
        "id": "view-in-github",
        "colab_type": "text"
      },
      "source": [
        "<a href=\"https://colab.research.google.com/github/mputs/Colab/blob/master/Install_libgpuarray.ipynb\" target=\"_parent\"><img src=\"https://colab.research.google.com/assets/colab-badge.svg\" alt=\"Open In Colab\"/></a>"
      ]
    },
    {
      "cell_type": "markdown",
      "metadata": {
        "colab_type": "text",
        "id": "bQ5RO4PbrE8_"
      },
      "source": [
        "# Making PyMC3 use the GPU on google Colab\n",
        "For PyMC3, i needed theano to be able to use the GPU. However, libgpuarray is not installed. You can see this by running the following code. It will return the text: \"Used the **cpu**\":"
      ]
    },
    {
      "cell_type": "code",
      "metadata": {
        "id": "AYt4jxrWq7aM",
        "colab_type": "code",
        "colab": {}
      },
      "source": [
        "import os\n",
        "from theano import function, config, shared, tensor\n",
        "import numpy\n",
        "import time\n",
        "\n",
        "vlen = 10 * 30 * 768  # 10 x #cores x # threads per core\n",
        "iters = 1000\n",
        "\n",
        "rng = numpy.random.RandomState(22)\n",
        "x = shared(numpy.asarray(rng.rand(vlen), config.floatX))\n",
        "f = function([], tensor.exp(x))\n",
        "print(f.maker.fgraph.toposort())\n",
        "t0 = time.time()\n",
        "for i in range(iters):\n",
        "    r = f()\n",
        "t1 = time.time()\n",
        "print(\"Looping %d times took %f seconds\" % (iters, t1 - t0))\n",
        "print(\"Result is %s\" % (r,))\n",
        "if numpy.any([isinstance(x.op, tensor.Elemwise) and\n",
        "              ('Gpu' not in type(x.op).__name__)\n",
        "              for x in f.maker.fgraph.toposort()]):\n",
        "    print('Used the cpu')\n",
        "else:\n",
        "    print('Used the gpu')"
      ],
      "execution_count": 0,
      "outputs": []
    },
    {
      "cell_type": "markdown",
      "metadata": {
        "id": "d0fYd14wrZvq",
        "colab_type": "text"
      },
      "source": [
        "For installing libgpuarray, i followed the instructions on http://deeplearning.net/software/libgpuarray/installation.html. The next cells download the repository, build and install libgpuarray, and finally set it up in python."
      ]
    },
    {
      "cell_type": "markdown",
      "metadata": {
        "id": "OGsp9R6qfeTf",
        "colab_type": "text"
      },
      "source": [
        "## clone the git repository\n",
        "first we clone the git repository:"
      ]
    },
    {
      "cell_type": "code",
      "metadata": {
        "id": "UIBw6S8EdzI-",
        "colab_type": "code",
        "colab": {}
      },
      "source": [
        "!git clone https://github.com/Theano/libgpuarray.git"
      ],
      "execution_count": 0,
      "outputs": []
    },
    {
      "cell_type": "markdown",
      "metadata": {
        "id": "6D8ecrHrfjfm",
        "colab_type": "text"
      },
      "source": [
        "##build libgpuarray\n",
        "we build libgpuarray using cmake:"
      ]
    },
    {
      "cell_type": "code",
      "metadata": {
        "id": "4gwqa0A9fUMI",
        "colab_type": "code",
        "colab": {}
      },
      "source": [
        "!cd libgpuarray; mkdir Build; cd Build; cmake .. -DCMAKE_BUILD_TYPE=Release; make; make install"
      ],
      "execution_count": 0,
      "outputs": []
    },
    {
      "cell_type": "markdown",
      "metadata": {
        "id": "qbJTFVtufvJB",
        "colab_type": "text"
      },
      "source": [
        "## build and install libgpuarray\n",
        "as last stap, we build and install libgpuarray:"
      ]
    },
    {
      "cell_type": "code",
      "metadata": {
        "id": "AexyqsQSd7pt",
        "colab_type": "code",
        "colab": {}
      },
      "source": [
        "!cd libgpuarray; python setup.py build;\n",
        "!cd libgpuarray; python setup.py install"
      ],
      "execution_count": 0,
      "outputs": []
    },
    {
      "cell_type": "markdown",
      "metadata": {
        "id": "BsC9kFZyr3Wk",
        "colab_type": "text"
      },
      "source": [
        "You can test the installation by restarting the notebook (Runtime/Restart runtime) and execute the code in the first cell again. It should say \"used the **gpu**\".\n"
      ]
    },
    {
      "cell_type": "markdown",
      "metadata": {
        "id": "iivd_Liqf4Gr",
        "colab_type": "text"
      },
      "source": [
        "And now we just wait until PyMC4 has all the funtionality we need... In the mean time: have fun with PyMC3 in Colab!"
      ]
    }
  ]
}